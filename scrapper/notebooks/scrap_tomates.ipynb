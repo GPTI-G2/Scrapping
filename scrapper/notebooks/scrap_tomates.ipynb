{
 "cells": [
  {
   "cell_type": "code",
   "execution_count": 1,
   "metadata": {},
   "outputs": [],
   "source": [
    "from scrapper.tomates.models import ScrapTomatesJumbo, ScrapTomatesLider\n",
    "import pandas as pd\n",
    "from scrapper.driver.search import search\n",
    "\n",
    "links_jumbo = [\n",
    "    \"https://www.jumbo.cl/tomate-larga-vida-granel/p\",\n",
    "    \"https://www.jumbo.cl/tomate-malla-1-kg/p\",\n",
    "    \"https://www.jumbo.cl/tomate-salad-granel/p\",\n",
    "    \"https://www.jumbo.cl/tomate-jumbo-granel-beef-2/p\"\n",
    "]\n",
    "scrapper_jumbo = ScrapTomatesJumbo(links_jumbo)\n",
    "\n",
    "links_lider = [\n",
    "    \"https://www.lider.cl/supermercado/product/sku/327604/tomates-tomate-larga-vida-granel-500-g-2-a-3-un-aprox\",\n",
    "    \"https://www.lider.cl/supermercado/product/sku/325702/tomates-tomate-larga-vida-malla-1-kg\",\n",
    "    \"https://www.lider.cl/supermercado/product/sku/452098/tomates-tomate-pera-granel-500-g-3-a-4-un-aprox\",\n",
    "    \"https://www.lider.cl/supermercado/product/sku/323558/tomates-tomate-beef-granel-500-g\"\n",
    "]\n",
    "scrapper_lider = ScrapTomatesLider(links_lider)"
   ]
  },
  {
   "cell_type": "code",
   "execution_count": 2,
   "metadata": {},
   "outputs": [
    {
     "name": "stderr",
     "output_type": "stream",
     "text": [
      "  0%|          | 0/4 [00:00<?, ?it/s]"
     ]
    },
    {
     "name": "stdout",
     "output_type": "stream",
     "text": [
      "Doing request!\n"
     ]
    },
    {
     "name": "stderr",
     "output_type": "stream",
     "text": [
      " 25%|██▌       | 1/4 [00:06<00:20,  6.88s/it]"
     ]
    },
    {
     "name": "stdout",
     "output_type": "stream",
     "text": [
      "Request executed!\n",
      "Doing request!\n"
     ]
    },
    {
     "name": "stderr",
     "output_type": "stream",
     "text": [
      " 50%|█████     | 2/4 [00:09<00:09,  4.62s/it]"
     ]
    },
    {
     "name": "stdout",
     "output_type": "stream",
     "text": [
      "Request executed!\n",
      "Doing request!\n"
     ]
    },
    {
     "name": "stderr",
     "output_type": "stream",
     "text": [
      " 75%|███████▌  | 3/4 [00:12<00:03,  3.81s/it]"
     ]
    },
    {
     "name": "stdout",
     "output_type": "stream",
     "text": [
      "Request executed!\n",
      "Doing request!\n"
     ]
    },
    {
     "name": "stderr",
     "output_type": "stream",
     "text": [
      "100%|██████████| 4/4 [00:15<00:00,  3.84s/it]"
     ]
    },
    {
     "name": "stdout",
     "output_type": "stream",
     "text": [
      "Request executed!\n",
      "[['261275-KG', 'Tomate granel', 'https://jumbo.vtexassets.com/arquivos/ids/416124-750-750', '945', '1.890'], ['261296', 'Tomate larga vida malla 1 kg', 'https://jumbo.vtexassets.com/arquivos/ids/453672-750-750', '1.890', '1.890'], ['899541-KG', 'Tomate salad granel', 'https://jumbo.vtexassets.com/arquivos/ids/355918-750-750', '975', '1.950'], ['1520953-KG', 'Tomate beef granel', 'https://jumbo.vtexassets.com/arquivos/ids/164301-750-750', '1.095', '2.190']]\n"
     ]
    },
    {
     "name": "stderr",
     "output_type": "stream",
     "text": [
      "\n"
     ]
    },
    {
     "data": {
      "text/html": [
       "<div>\n",
       "<style scoped>\n",
       "    .dataframe tbody tr th:only-of-type {\n",
       "        vertical-align: middle;\n",
       "    }\n",
       "\n",
       "    .dataframe tbody tr th {\n",
       "        vertical-align: top;\n",
       "    }\n",
       "\n",
       "    .dataframe thead th {\n",
       "        text-align: right;\n",
       "    }\n",
       "</style>\n",
       "<table border=\"1\" class=\"dataframe\">\n",
       "  <thead>\n",
       "    <tr style=\"text-align: right;\">\n",
       "      <th></th>\n",
       "      <th>Code</th>\n",
       "      <th>Name</th>\n",
       "      <th>Photo</th>\n",
       "      <th>Price</th>\n",
       "      <th>Price x Kg</th>\n",
       "    </tr>\n",
       "  </thead>\n",
       "  <tbody>\n",
       "    <tr>\n",
       "      <th>0</th>\n",
       "      <td>261275-KG</td>\n",
       "      <td>Tomate granel</td>\n",
       "      <td>https://jumbo.vtexassets.com/arquivos/ids/4161...</td>\n",
       "      <td>945</td>\n",
       "      <td>1.890</td>\n",
       "    </tr>\n",
       "    <tr>\n",
       "      <th>1</th>\n",
       "      <td>261296</td>\n",
       "      <td>Tomate larga vida malla 1 kg</td>\n",
       "      <td>https://jumbo.vtexassets.com/arquivos/ids/4536...</td>\n",
       "      <td>1.890</td>\n",
       "      <td>1.890</td>\n",
       "    </tr>\n",
       "    <tr>\n",
       "      <th>2</th>\n",
       "      <td>899541-KG</td>\n",
       "      <td>Tomate salad granel</td>\n",
       "      <td>https://jumbo.vtexassets.com/arquivos/ids/3559...</td>\n",
       "      <td>975</td>\n",
       "      <td>1.950</td>\n",
       "    </tr>\n",
       "    <tr>\n",
       "      <th>3</th>\n",
       "      <td>1520953-KG</td>\n",
       "      <td>Tomate beef granel</td>\n",
       "      <td>https://jumbo.vtexassets.com/arquivos/ids/1643...</td>\n",
       "      <td>1.095</td>\n",
       "      <td>2.190</td>\n",
       "    </tr>\n",
       "  </tbody>\n",
       "</table>\n",
       "</div>"
      ],
      "text/plain": [
       "         Code                          Name  \\\n",
       "0   261275-KG                 Tomate granel   \n",
       "1      261296  Tomate larga vida malla 1 kg   \n",
       "2   899541-KG           Tomate salad granel   \n",
       "3  1520953-KG            Tomate beef granel   \n",
       "\n",
       "                                               Photo  Price Price x Kg  \n",
       "0  https://jumbo.vtexassets.com/arquivos/ids/4161...    945      1.890  \n",
       "1  https://jumbo.vtexassets.com/arquivos/ids/4536...  1.890      1.890  \n",
       "2  https://jumbo.vtexassets.com/arquivos/ids/3559...    975      1.950  \n",
       "3  https://jumbo.vtexassets.com/arquivos/ids/1643...  1.095      2.190  "
      ]
     },
     "metadata": {},
     "output_type": "display_data"
    }
   ],
   "source": [
    "productos_jumbo = search(scrapper_jumbo)\n",
    "df = pd.DataFrame(productos_jumbo, columns=scrapper_jumbo.columns)\n",
    "display(df)"
   ]
  },
  {
   "cell_type": "code",
   "execution_count": 3,
   "metadata": {},
   "outputs": [
    {
     "name": "stderr",
     "output_type": "stream",
     "text": [
      "  0%|          | 0/4 [00:00<?, ?it/s]"
     ]
    },
    {
     "name": "stdout",
     "output_type": "stream",
     "text": [
      "Doing request!\n"
     ]
    },
    {
     "name": "stderr",
     "output_type": "stream",
     "text": [
      " 25%|██▌       | 1/4 [00:03<00:11,  3.70s/it]"
     ]
    },
    {
     "name": "stdout",
     "output_type": "stream",
     "text": [
      "Request executed!\n",
      "Doing request!\n"
     ]
    },
    {
     "name": "stderr",
     "output_type": "stream",
     "text": [
      " 50%|█████     | 2/4 [00:06<00:06,  3.15s/it]"
     ]
    },
    {
     "name": "stdout",
     "output_type": "stream",
     "text": [
      "Request executed!\n",
      "Doing request!\n"
     ]
    },
    {
     "name": "stderr",
     "output_type": "stream",
     "text": [
      " 75%|███████▌  | 3/4 [00:09<00:02,  2.98s/it]"
     ]
    },
    {
     "name": "stdout",
     "output_type": "stream",
     "text": [
      "Request executed!\n",
      "Doing request!\n"
     ]
    },
    {
     "name": "stderr",
     "output_type": "stream",
     "text": [
      "100%|██████████| 4/4 [00:10<00:00,  2.75s/it]"
     ]
    },
    {
     "name": "stdout",
     "output_type": "stream",
     "text": [
      "Request executed!\n",
      "[['394727', 'Tomate Larga Vida Granel, 500 g (2 a 3 un aprox)', 'https://images.lider.cl/wmtcl?source=url[file:/productos/327604a.jpg]&sink\"', '795', '1,590'], ['281893', 'Tomate Larga Vida Malla, 1 Kg', 'https://images.lider.cl/wmtcl?source=url[file:/productos/325702a-1.jpg]&sink\"', '1.590', '1,590'], ['480769', 'Tomate Pera Granel, 500 g (3 a 4 un aprox)', 'https://images.lider.cl/wmtcl?source=url[file:/productos/452098a.jpg]&sink\"', '1.145', '2,290'], ['480152', 'Tomate Beef Granel, 500 g', 'https://images.lider.cl/wmtcl?source=url[file:/productos/323558a-1.jpg]&sink\"', '1.145', '2,290']]\n"
     ]
    },
    {
     "name": "stderr",
     "output_type": "stream",
     "text": [
      "\n"
     ]
    },
    {
     "data": {
      "text/html": [
       "<div>\n",
       "<style scoped>\n",
       "    .dataframe tbody tr th:only-of-type {\n",
       "        vertical-align: middle;\n",
       "    }\n",
       "\n",
       "    .dataframe tbody tr th {\n",
       "        vertical-align: top;\n",
       "    }\n",
       "\n",
       "    .dataframe thead th {\n",
       "        text-align: right;\n",
       "    }\n",
       "</style>\n",
       "<table border=\"1\" class=\"dataframe\">\n",
       "  <thead>\n",
       "    <tr style=\"text-align: right;\">\n",
       "      <th></th>\n",
       "      <th>Code</th>\n",
       "      <th>Name</th>\n",
       "      <th>Photo</th>\n",
       "      <th>Price</th>\n",
       "      <th>Price x Kg</th>\n",
       "    </tr>\n",
       "  </thead>\n",
       "  <tbody>\n",
       "    <tr>\n",
       "      <th>0</th>\n",
       "      <td>394727</td>\n",
       "      <td>Tomate Larga Vida Granel, 500 g (2 a 3 un aprox)</td>\n",
       "      <td>https://images.lider.cl/wmtcl?source=url[file:...</td>\n",
       "      <td>795</td>\n",
       "      <td>1,590</td>\n",
       "    </tr>\n",
       "    <tr>\n",
       "      <th>1</th>\n",
       "      <td>281893</td>\n",
       "      <td>Tomate Larga Vida Malla, 1 Kg</td>\n",
       "      <td>https://images.lider.cl/wmtcl?source=url[file:...</td>\n",
       "      <td>1.590</td>\n",
       "      <td>1,590</td>\n",
       "    </tr>\n",
       "    <tr>\n",
       "      <th>2</th>\n",
       "      <td>480769</td>\n",
       "      <td>Tomate Pera Granel, 500 g (3 a 4 un aprox)</td>\n",
       "      <td>https://images.lider.cl/wmtcl?source=url[file:...</td>\n",
       "      <td>1.145</td>\n",
       "      <td>2,290</td>\n",
       "    </tr>\n",
       "    <tr>\n",
       "      <th>3</th>\n",
       "      <td>480152</td>\n",
       "      <td>Tomate Beef Granel, 500 g</td>\n",
       "      <td>https://images.lider.cl/wmtcl?source=url[file:...</td>\n",
       "      <td>1.145</td>\n",
       "      <td>2,290</td>\n",
       "    </tr>\n",
       "  </tbody>\n",
       "</table>\n",
       "</div>"
      ],
      "text/plain": [
       "     Code                                              Name  \\\n",
       "0  394727  Tomate Larga Vida Granel, 500 g (2 a 3 un aprox)   \n",
       "1  281893                     Tomate Larga Vida Malla, 1 Kg   \n",
       "2  480769        Tomate Pera Granel, 500 g (3 a 4 un aprox)   \n",
       "3  480152                         Tomate Beef Granel, 500 g   \n",
       "\n",
       "                                               Photo  Price Price x Kg  \n",
       "0  https://images.lider.cl/wmtcl?source=url[file:...    795      1,590  \n",
       "1  https://images.lider.cl/wmtcl?source=url[file:...  1.590      1,590  \n",
       "2  https://images.lider.cl/wmtcl?source=url[file:...  1.145      2,290  \n",
       "3  https://images.lider.cl/wmtcl?source=url[file:...  1.145      2,290  "
      ]
     },
     "metadata": {},
     "output_type": "display_data"
    }
   ],
   "source": [
    "productos_lider = search(scrapper_lider)\n",
    "df = pd.DataFrame(productos_lider, columns=scrapper_lider.columns)\n",
    "display(df)"
   ]
  }
 ],
 "metadata": {
  "kernelspec": {
   "display_name": "Python 3.9.1 ('scrapper-rurJ-cN4-py3.9')",
   "language": "python",
   "name": "python3"
  },
  "language_info": {
   "codemirror_mode": {
    "name": "ipython",
    "version": 3
   },
   "file_extension": ".py",
   "mimetype": "text/x-python",
   "name": "python",
   "nbconvert_exporter": "python",
   "pygments_lexer": "ipython3",
   "version": "3.9.1"
  },
  "orig_nbformat": 4,
  "vscode": {
   "interpreter": {
    "hash": "face9de229656078b63a2ce115457e39dbd0ec028ecc4561096d9849ab592a81"
   }
  }
 },
 "nbformat": 4,
 "nbformat_minor": 2
}
